{
 "cells": [
  {
   "cell_type": "code",
   "execution_count": 8,
   "id": "c09984bb",
   "metadata": {},
   "outputs": [],
   "source": [
    "import pandas as pd\n",
    "import numpy as np\n",
    "from scipy import stats\n",
    "import seaborn as sns  \n",
    "from statsmodels.stats.outliers_influence import variance_inflation_factor\n",
    "import matplotlib.pyplot as plt\n",
    "\n",
    "# Scikit-Learn modules for machine learning\n",
    "from sklearn.model_selection import train_test_split, GridSearchCV, cross_val_score\n",
    "from sklearn.linear_model import LogisticRegression\n",
    "from sklearn.metrics import accuracy_score, precision_score, recall_score, f1_score, roc_auc_score, classification_report, confusion_matrix, roc_curve, auc\n",
    "from sklearn.ensemble import RandomForestClassifier\n",
    "from sklearn.svm import SVC\n",
    "from sklearn.neighbors import KNeighborsClassifier"
   ]
  },
  {
   "cell_type": "code",
   "execution_count": 9,
   "id": "05be4ec0",
   "metadata": {},
   "outputs": [],
   "source": [
    "books_data_df = pd.read_csv('data/book_cover/books_data.csv')"
   ]
  },
  {
   "cell_type": "code",
   "execution_count": 10,
   "id": "5cd7edf4",
   "metadata": {},
   "outputs": [
    {
     "name": "stdout",
     "output_type": "stream",
     "text": [
      "<class 'pandas.core.frame.DataFrame'>\n",
      "RangeIndex: 212404 entries, 0 to 212403\n",
      "Data columns (total 10 columns):\n",
      " #   Column         Non-Null Count   Dtype  \n",
      "---  ------         --------------   -----  \n",
      " 0   Title          212403 non-null  object \n",
      " 1   description    143962 non-null  object \n",
      " 2   authors        180991 non-null  object \n",
      " 3   image          160329 non-null  object \n",
      " 4   previewLink    188568 non-null  object \n",
      " 5   publisher      136518 non-null  object \n",
      " 6   publishedDate  187099 non-null  object \n",
      " 7   infoLink       188568 non-null  object \n",
      " 8   categories     171205 non-null  object \n",
      " 9   ratingsCount   49752 non-null   float64\n",
      "dtypes: float64(1), object(9)\n",
      "memory usage: 16.2+ MB\n",
      "None\n"
     ]
    }
   ],
   "source": [
    "# Check the structure of the dataset\n",
    "print(books_data_df.info())"
   ]
  },
  {
   "cell_type": "code",
   "execution_count": 11,
   "id": "1059a25b",
   "metadata": {},
   "outputs": [
    {
     "name": "stdout",
     "output_type": "stream",
     "text": [
      "Dataset Shape: (212404, 10)\n",
      "\n",
      "Data Types:\n",
      "object     9\n",
      "float64    1\n",
      "Name: count, dtype: int64\n",
      "Title: 212403 unique values\n",
      "description: 133226 unique values\n",
      "authors: 127278 unique values\n",
      "image: 149387 unique values\n",
      "previewLink: 188099 unique values\n",
      "publisher: 16016 unique values\n",
      "publishedDate: 11582 unique values\n",
      "infoLink: 184506 unique values\n",
      "categories: 10883 unique values\n"
     ]
    }
   ],
   "source": [
    "# Dataset Shape and Data Types\n",
    "print(\"Dataset Shape:\", books_data_df.shape)\n",
    "print(\"\\nData Types:\")\n",
    "print(books_data_df.dtypes.value_counts())\n",
    "\n",
    "# Summary of numerical columns\n",
    "books_data_df.describe()\n",
    "\n",
    "# Count unique values in categorical columns\n",
    "categorical_columns = books_data_df.select_dtypes(include='object').columns\n",
    "for col in categorical_columns:\n",
    "    print(f\"{col}: {books_data_df[col].nunique()} unique values\")"
   ]
  },
  {
   "cell_type": "code",
   "execution_count": 6,
   "id": "5e1ee3f3",
   "metadata": {},
   "outputs": [
    {
     "name": "stdout",
     "output_type": "stream",
     "text": [
      "Title                 1\n",
      "description       68442\n",
      "authors           31413\n",
      "image             52075\n",
      "previewLink       23836\n",
      "publisher         75886\n",
      "publishedDate     25305\n",
      "infoLink          23836\n",
      "categories        41199\n",
      "ratingsCount     162652\n",
      "dtype: int64\n"
     ]
    }
   ],
   "source": [
    "# Check for missing values\n",
    "print(books_data_df.isnull().sum())"
   ]
  },
  {
   "cell_type": "code",
   "execution_count": 16,
   "id": "a3cdb879",
   "metadata": {},
   "outputs": [
    {
     "name": "stdout",
     "output_type": "stream",
     "text": [
      "\n",
      "DataFrame after dropping rows with nulls in 'image' & 'ratingsCount':\n",
      "<class 'pandas.core.frame.DataFrame'>\n",
      "Index: 47127 entries, 5 to 212402\n",
      "Data columns (total 10 columns):\n",
      " #   Column         Non-Null Count  Dtype  \n",
      "---  ------         --------------  -----  \n",
      " 0   Title          47126 non-null  object \n",
      " 1   description    44217 non-null  object \n",
      " 2   authors        46503 non-null  object \n",
      " 3   image          47127 non-null  object \n",
      " 4   previewLink    47127 non-null  object \n",
      " 5   publisher      42643 non-null  object \n",
      " 6   publishedDate  46991 non-null  object \n",
      " 7   infoLink       47127 non-null  object \n",
      " 8   categories     45976 non-null  object \n",
      " 9   ratingsCount   47127 non-null  float64\n",
      "dtypes: float64(1), object(9)\n",
      "memory usage: 4.0+ MB\n",
      "None\n"
     ]
    }
   ],
   "source": [
    "books_data_df.dropna(how='any', subset=['image', 'ratingsCount'], inplace=True)\n",
    "print(\"\\nDataFrame after dropping rows with nulls in 'image' & 'ratingsCount':\")\n",
    "print(books_data_df.info())"
   ]
  },
  {
   "cell_type": "code",
   "execution_count": 17,
   "id": "dd6f00ca",
   "metadata": {},
   "outputs": [
    {
     "name": "stdout",
     "output_type": "stream",
     "text": [
      "                                                Title  \\\n",
      "5   The Church of Christ: A Biblical Ecclesiology ...   \n",
      "31  Voices from the Farm: Adventures in Community ...   \n",
      "33                            The Battleship Bismarck   \n",
      "35                                     Mini-mysteries   \n",
      "42                            Tess and the Highlander   \n",
      "\n",
      "                                          description               authors  \\\n",
      "5   In The Church of Christ: A Biblical Ecclesiolo...  ['Everett Ferguson']   \n",
      "31  Twenty-five years ago, at the height of the co...       ['Rupert Fike']   \n",
      "33  The Bismarck is perhaps the most famous – and ...  ['Stefan Draminski']   \n",
      "35                                                NaN                   NaN   \n",
      "42  In 1543, on a windswept isle off of Scotland, ...    ['May Mcgoldrick']   \n",
      "\n",
      "                                                image  \\\n",
      "5   http://books.google.com/books/content?id=kVqRa...   \n",
      "31  http://books.google.com/books/content?id=IjTAB...   \n",
      "33  http://books.google.com/books/content?id=nxttD...   \n",
      "35  http://books.google.com/books/content?id=mhqyg...   \n",
      "42  http://books.google.com/books/content?id=VmCRS...   \n",
      "\n",
      "                                          previewLink  \\\n",
      "5   http://books.google.nl/books?id=kVqRaiPlx88C&p...   \n",
      "31  http://books.google.nl/books?id=IjTABgAAQBAJ&p...   \n",
      "33  http://books.google.nl/books?id=nxttDwAAQBAJ&p...   \n",
      "35  http://books.google.nl/books?id=mhqygn6STHgC&p...   \n",
      "42  http://books.google.nl/books?id=VmCRSPmY3WkC&d...   \n",
      "\n",
      "                     publisher publishedDate  \\\n",
      "5   Wm. B. Eerdmans Publishing          1996   \n",
      "31     Book Publishing Company    2012-08-21   \n",
      "33       Bloomsbury Publishing    2018-09-20   \n",
      "35        Remedia Publications           NaN   \n",
      "42              Harper Collins       2002-11   \n",
      "\n",
      "                                             infoLink  \\\n",
      "5   http://books.google.nl/books?id=kVqRaiPlx88C&d...   \n",
      "31  https://play.google.com/store/books/details?id...   \n",
      "33  https://play.google.com/store/books/details?id...   \n",
      "35  http://books.google.nl/books?id=mhqygn6STHgC&d...   \n",
      "42  http://books.google.nl/books?id=VmCRSPmY3WkC&d...   \n",
      "\n",
      "                       categories  ratingsCount  \n",
      "5                    ['Religion']           5.0  \n",
      "31  ['Biography & Autobiography']           1.0  \n",
      "33                    ['History']           1.0  \n",
      "35                            NaN           1.0  \n",
      "42           ['Juvenile Fiction']           2.0  \n"
     ]
    }
   ],
   "source": [
    "# Preview the dataset\n",
    "print(books_data_df.head())"
   ]
  }
 ],
 "metadata": {
  "kernelspec": {
   "display_name": "Python 3",
   "language": "python",
   "name": "python3"
  },
  "language_info": {
   "codemirror_mode": {
    "name": "ipython",
    "version": 3
   },
   "file_extension": ".py",
   "mimetype": "text/x-python",
   "name": "python",
   "nbconvert_exporter": "python",
   "pygments_lexer": "ipython3",
   "version": "3.13.3"
  }
 },
 "nbformat": 4,
 "nbformat_minor": 5
}
